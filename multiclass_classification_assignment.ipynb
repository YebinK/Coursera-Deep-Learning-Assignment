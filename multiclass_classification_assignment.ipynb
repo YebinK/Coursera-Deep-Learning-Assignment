{
  "nbformat": 4,
  "nbformat_minor": 0,
  "metadata": {
    "colab": {
      "name": "multiclass classification assignment.ipynb",
      "provenance": [],
      "collapsed_sections": [],
      "include_colab_link": true
    },
    "kernelspec": {
      "name": "python3",
      "display_name": "Python 3"
    },
    "accelerator": "GPU"
  },
  "cells": [
    {
      "cell_type": "markdown",
      "metadata": {
        "id": "view-in-github",
        "colab_type": "text"
      },
      "source": [
        "<a href=\"https://colab.research.google.com/github/YebinK/Coursera-Deep-Learning-Assignment/blob/master/multiclass_classification_assignment.ipynb\" target=\"_parent\"><img src=\"https://colab.research.google.com/assets/colab-badge.svg\" alt=\"Open In Colab\"/></a>"
      ]
    },
    {
      "cell_type": "markdown",
      "metadata": {
        "id": "dUMs1_lk3lTC",
        "colab_type": "text"
      },
      "source": [
        ""
      ]
    },
    {
      "cell_type": "markdown",
      "metadata": {
        "id": "EZ05sk4h14RY",
        "colab_type": "text"
      },
      "source": [
        " **미래연구소 9기 Assignment**\n",
        " \n"
      ]
    },
    {
      "cell_type": "code",
      "metadata": {
        "id": "CBX2xbSrfofg",
        "colab_type": "code",
        "colab": {}
      },
      "source": [
        "# 1. data 업로드\n",
        "from keras import datasets\n",
        "\n",
        "(x_train, y_train), (x_test, y_test) = datasets.mnist.load_data()"
      ],
      "execution_count": 0,
      "outputs": []
    },
    {
      "cell_type": "code",
      "metadata": {
        "id": "Q1TEr7cMv6Kg",
        "colab_type": "code",
        "outputId": "9c51ba54-f33c-4017-9435-b2f1108d3482",
        "colab": {
          "base_uri": "https://localhost:8080/",
          "height": 303
        }
      },
      "source": [
        "# 2. data 확인\n",
        "import matplotlib.pyplot as plt\n",
        "%matplotlib inline\n",
        "\n",
        "index = 12\n",
        "img = x_train[index]\n",
        "print(y_train[index])\n",
        "plt.imshow(img,cmap='gray')"
      ],
      "execution_count": 27,
      "outputs": [
        {
          "output_type": "stream",
          "text": [
            "3\n"
          ],
          "name": "stdout"
        },
        {
          "output_type": "execute_result",
          "data": {
            "text/plain": [
              "<matplotlib.image.AxesImage at 0x7fe6501d5278>"
            ]
          },
          "metadata": {
            "tags": []
          },
          "execution_count": 27
        },
        {
          "output_type": "display_data",
          "data": {
            "image/png": "[encoded data removed]",
            "text/plain": [
              "<Figure size 432x288 with 1 Axes>"
            ]
          },
          "metadata": {
            "tags": []
          }
        }
      ]
    },
    {
      "cell_type": "code",
      "metadata": {
        "id": "N34rQYJhmMuC",
        "colab_type": "code",
        "outputId": "a7238161-3674-41b5-f94f-4808c31f2745",
        "colab": {
          "base_uri": "https://localhost:8080/",
          "height": 69
        }
      },
      "source": [
        "# 3. data pre-processing 데이터 전처리 과정\n",
        "x_train = x_train.astype('float32')\n",
        "x_test = x_test.astype('float32')\n",
        "\n",
        "### START CODE HERE ###\n",
        "# image normalization(혹은 standardization)은 어떤 값으로 나누어야 할까요?\n",
        "x_train /= 255\n",
        "x_test /= 255\n",
        "### END CODE HERE ###\n",
        "\n",
        "print('x_train shape:', x_train.shape)\n",
        "print(x_train.shape[0], 'train samples')\n",
        "print(x_test.shape[0], 'test samples')"
      ],
      "execution_count": 28,
      "outputs": [
        {
          "output_type": "stream",
          "text": [
            "x_train shape: (60000, 28, 28)\n",
            "60000 train samples\n",
            "10000 test samples\n"
          ],
          "name": "stdout"
        }
      ]
    },
    {
      "cell_type": "code",
      "metadata": {
        "id": "7PdWGyIRfy3L",
        "colab_type": "code",
        "colab": {}
      },
      "source": [
        "# convert class vectors to binary class matrices\n",
        "import keras\n",
        "\n",
        "y_train = keras.utils.to_categorical(y_train, 10)\n",
        "y_test = keras.utils.to_categorical(y_test, 10)\n",
        "#input_shape = (28,28,1)\n",
        "\n",
        "x_train = x_train.reshape((60000, 28*28))\n",
        "x_test = x_test.reshape((10000, 28*28))"
      ],
      "execution_count": 0,
      "outputs": []
    },
    {
      "cell_type": "code",
      "metadata": {
        "id": "HXa7nQ_CYtiT",
        "colab_type": "code",
        "colab": {}
      },
      "source": [
        "# dataset 분할. 원래 train set에 60000개인데\n",
        "#from sklearn.model_selection import train_test_split #아래 함수를 쓰면\n",
        "#x_train, x_val, y_train, y_val = train_test_split(x_train, y_train, test_size=0.1667) #validation set에 10000개, train set에 50000개로 쪼개줌."
      ],
      "execution_count": 0,
      "outputs": []
    },
    {
      "cell_type": "code",
      "metadata": {
        "id": "kVHBaIFImCOh",
        "colab_type": "code",
        "colab": {}
      },
      "source": [
        "# 4. 모델 구성하기\n",
        "from keras.models import Sequential\n",
        "from keras.layers import Activation, Dense\n",
        "from keras import layers\n",
        "from keras import optimizers\n",
        "\n",
        "### START CODE HERE ###\n",
        "# 모델을 담는 그릇과 같은 함수를 빈칸에 적어주세요. hint는 위의 import된 함수 중 하나입니다.\n",
        "# 수업시간에 설명한 대로 hidden layer와 output layer의 activation을 설정해주세요.\n",
        "model = Sequential() #Sequential로 객체 생성. 객체 이름 model\n",
        "model.add(Dense(units=64, input_dim=28*28, activation='relu')) #First hidden layer. input_dim : input feature 개수\n",
        "model.add(Dense(units=10, activation='softmax')) #Output layer. units는 출력 층 개수. 0~9 이므로 10. hyperparameter 아님!\n",
        "### END CODE HERE ###"
      ],
      "execution_count": 0,
      "outputs": []
    },
    {
      "cell_type": "code",
      "metadata": {
        "id": "UQdYjt_TbiL7",
        "colab_type": "code",
        "outputId": "60dcfe4b-ac00-4931-80de-c8b22ea1a756",
        "colab": {
          "base_uri": "https://localhost:8080/",
          "height": 224
        }
      },
      "source": [
        "model.summary()"
      ],
      "execution_count": 32,
      "outputs": [
        {
          "output_type": "stream",
          "text": [
            "Model: \"sequential_2\"\n",
            "_________________________________________________________________\n",
            "Layer (type)                 Output Shape              Param #   \n",
            "=================================================================\n",
            "dense_3 (Dense)              (None, 64)                50240     \n",
            "_________________________________________________________________\n",
            "dense_4 (Dense)              (None, 10)                650       \n",
            "=================================================================\n",
            "Total params: 50,890\n",
            "Trainable params: 50,890\n",
            "Non-trainable params: 0\n",
            "_________________________________________________________________\n"
          ],
          "name": "stdout"
        }
      ]
    },
    {
      "cell_type": "code",
      "metadata": {
        "id": "17AMxyqUwUQr",
        "colab_type": "code",
        "outputId": "28e7dfb9-3c18-442d-a083-bf5720db69c4",
        "colab": {
          "base_uri": "https://localhost:8080/",
          "height": 54
        }
      },
      "source": [
        "# 5. 모델 학습과정 설정\n",
        "### START CODE HERE ###\n",
        "# optimizer는 sgd를 사용하고 metric은 accuracy로 설정해주세요.\n",
        "model.compile(loss='categorical_crossentropy', optimizer='sgd', metrics=['accuracy'])\n",
        "### END CODE HERE ###\n",
        "'''\n",
        "model.compile(loss=keras.losses.categorical_crossentropy, \n",
        "              optimizer=keras.optimizers.Adam(lr=0.01,),\n",
        "              metrics=['accuracy'])\n",
        "'''"
      ],
      "execution_count": 33,
      "outputs": [
        {
          "output_type": "execute_result",
          "data": {
            "text/plain": [
              "\"\\nmodel.compile(loss=keras.losses.categorical_crossentropy, \\n              optimizer=keras.optimizers.Adam(lr=0.01,),\\n              metrics=['accuracy'])\\n\""
            ]
          },
          "metadata": {
            "tags": []
          },
          "execution_count": 33
        }
      ]
    },
    {
      "cell_type": "code",
      "metadata": {
        "id": "sWaaHY2swYuQ",
        "colab_type": "code",
        "outputId": "6f909a7c-7e13-4108-dc06-0e0bcbc48a22",
        "colab": {
          "base_uri": "https://localhost:8080/",
          "height": 207
        }
      },
      "source": [
        "# 6. 모델 학습\n",
        "### START CODE HERE ###\n",
        "# train set과 validation set을 각각 50000개, 10000개로 분할해주세요.(keras fit 함수를 검색해서 나오는 인자 값 중 하나를 쓰시면 됩니다.)\n",
        "history = model.fit(x_train, y_train, validation_split=0.166666, epochs=5, batch_size=32)\n",
        "### END CODE HERE ###"
      ],
      "execution_count": 34,
      "outputs": [
        {
          "output_type": "stream",
          "text": [
            "Train on 50000 samples, validate on 10000 samples\n",
            "Epoch 1/5\n",
            "50000/50000 [==============================] - 6s 126us/step - loss: 0.7091 - acc: 0.8228 - val_loss: 0.3739 - val_acc: 0.9022\n",
            "Epoch 2/5\n",
            "50000/50000 [==============================] - 6s 122us/step - loss: 0.3643 - acc: 0.8992 - val_loss: 0.3061 - val_acc: 0.9155\n",
            "Epoch 3/5\n",
            "50000/50000 [==============================] - 6s 123us/step - loss: 0.3161 - acc: 0.9113 - val_loss: 0.2783 - val_acc: 0.9225\n",
            "Epoch 4/5\n",
            "50000/50000 [==============================] - 6s 122us/step - loss: 0.2888 - acc: 0.9194 - val_loss: 0.2598 - val_acc: 0.9282\n",
            "Epoch 5/5\n",
            "50000/50000 [==============================] - 6s 124us/step - loss: 0.2688 - acc: 0.9252 - val_loss: 0.2463 - val_acc: 0.9329\n"
          ],
          "name": "stdout"
        }
      ]
    },
    {
      "cell_type": "code",
      "metadata": {
        "id": "ehUEM0nXk3oc",
        "colab_type": "code",
        "outputId": "984a1728-a416-4aa7-c8a5-36be226da26f",
        "colab": {
          "base_uri": "https://localhost:8080/",
          "height": 312
        }
      },
      "source": [
        "# 7. 학습과정 graph(loss) 이걸로 내가 작성한 compile, fit함수가 맞는지 확인할 수 있다.\n",
        "import matplotlib.pyplot as plt\n",
        "\n",
        "loss = history.history['loss']\n",
        "val_loss = history.history['val_loss']\n",
        "\n",
        "epochs = range(1, len(loss) + 1)\n",
        "\n",
        "plt.plot(epochs, loss, 'r', label = 'Training loss')\n",
        "plt.plot(epochs, val_loss, 'b', label = 'Validation loss')\n",
        "plt.title('Training and validation loss')\n",
        "plt.xlabel('Epochs')\n",
        "plt.ylabel('Loss')\n",
        "plt.legend()\n",
        "\n",
        "\n",
        "plt.show"
      ],
      "execution_count": 35,
      "outputs": [
        {
          "output_type": "execute_result",
          "data": {
            "text/plain": [
              "<function matplotlib.pyplot.show>"
            ]
          },
          "metadata": {
            "tags": []
          },
          "execution_count": 35
        },
        {
          "output_type": "display_data",
          "data": {
            "image/png": "[encoded data removed]",
            "text/plain": [
              "<Figure size 432x288 with 1 Axes>"
            ]
          },
          "metadata": {
            "tags": []
          }
        }
      ]
    },
    {
      "cell_type": "code",
      "metadata": {
        "id": "rzZTRJHBcB8H",
        "colab_type": "code",
        "outputId": "5ddf7942-de9a-48fe-a08b-92555a84f146",
        "colab": {
          "base_uri": "https://localhost:8080/",
          "height": 312
        }
      },
      "source": [
        "# 7. 학습과정 graph(accuracy)\n",
        "plt.clf() # 그래프 초기화\n",
        "\n",
        "acc = history.history['acc']\n",
        "val_acc = history.history['val_acc']\n",
        "\n",
        "### START CODE HERE ###\n",
        "# 글씨 색, 레이블, 제목 등을 변경해보세요(bo 대신 ro를 쓰면 빨간 점이 찍힙니다)\n",
        "plt.plot(epochs, acc, 'r', label = 'Training acc')\n",
        "plt.plot(epochs, val_acc, 'b', label = 'Validation acc')\n",
        "plt.title('Training and validation acc')\n",
        "plt.xlabel('Epochs')\n",
        "plt.ylabel('Accuracy')\n",
        "plt.legend()\n",
        "### END CODE HERE ###\n",
        "\n",
        "plt.show"
      ],
      "execution_count": 36,
      "outputs": [
        {
          "output_type": "execute_result",
          "data": {
            "text/plain": [
              "<function matplotlib.pyplot.show>"
            ]
          },
          "metadata": {
            "tags": []
          },
          "execution_count": 36
        },
        {
          "output_type": "display_data",
          "data": {
            "image/png": "[encoded data removed]",
            "text/plain": [
              "<Figure size 432x288 with 1 Axes>"
            ]
          },
          "metadata": {
            "tags": []
          }
        }
      ]
    },
    {
      "cell_type": "code",
      "metadata": {
        "id": "wnRi1LYjdN0j",
        "colab_type": "code",
        "outputId": "f499d834-ebd6-4c57-f7f7-2c06a34fb0a3",
        "colab": {
          "base_uri": "https://localhost:8080/",
          "height": 86
        }
      },
      "source": [
        "# 8. 모델 test\n",
        "### START CODE HERE ###(None을 지우고 model을 evaluate 할 수 있는 함수를 사용해보세요)\n",
        "loss_and_metrics = model.evaluate(x_test, y_test, batch_size=32)\n",
        "### END CODE HERE ###\n",
        "print('## evaluation loss and_metrics ##')\n",
        "print('test_loss : ' + str(loss_and_metrics[0]))\n",
        "print('test_acc : ' + str(loss_and_metrics[1] * 100) + '%')"
      ],
      "execution_count": 44,
      "outputs": [
        {
          "output_type": "stream",
          "text": [
            "10000/10000 [==============================] - 0s 49us/step\n",
            "## evaluation loss and_metrics ##\n",
            "test_loss : 0.25219504376649854\n",
            "test_acc : 92.84%\n"
          ],
          "name": "stdout"
        }
      ]
    },
    {
      "cell_type": "code",
      "metadata": {
        "id": "Sc-cji3-3zbs",
        "colab_type": "code",
        "colab": {}
      },
      "source": [
        ""
      ],
      "execution_count": 0,
      "outputs": []
    }
  ]
}
